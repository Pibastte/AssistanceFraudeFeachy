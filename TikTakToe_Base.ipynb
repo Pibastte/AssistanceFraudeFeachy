{
  "nbformat": 4,
  "nbformat_minor": 0,
  "metadata": {
    "colab": {
      "name": "TikTakToe_Base",
      "provenance": [],
      "collapsed_sections": [],
      "authorship_tag": "ABX9TyP0ubp/o36xw8OYPivDh9Cg",
      "include_colab_link": true
    },
    "kernelspec": {
      "name": "python3",
      "display_name": "Python 3"
    },
    "language_info": {
      "name": "python"
    },
    "accelerator": "GPU"
  },
  "cells": [
    {
      "cell_type": "markdown",
      "metadata": {
        "id": "view-in-github",
        "colab_type": "text"
      },
      "source": [
        "<a href=\"https://colab.research.google.com/github/Pibastte/AssistanceFraudeFeachy/blob/main/TikTakToe_Base.ipynb\" target=\"_parent\"><img src=\"https://colab.research.google.com/assets/colab-badge.svg\" alt=\"Open In Colab\"/></a>"
      ]
    },
    {
      "cell_type": "markdown",
      "metadata": {
        "id": "gHICnmHt7IXN"
      },
      "source": [
        "#Setup of the game"
      ]
    },
    {
      "cell_type": "code",
      "metadata": {
        "id": "eqiS5KkwLFe1"
      },
      "source": [
        "import math\n",
        "import time\n",
        "from random import randint\n",
        "from numba import njit, prange"
      ],
      "execution_count": null,
      "outputs": []
    },
    {
      "cell_type": "code",
      "metadata": {
        "id": "72RjNpmM4K9c"
      },
      "source": [
        "repr = {\n",
        "    -1: \"X\",\n",
        "    1: \"O\",\n",
        "    0: \"-\"\n",
        "}"
      ],
      "execution_count": null,
      "outputs": []
    },
    {
      "cell_type": "code",
      "metadata": {
        "id": "aiwgBZl_0emt"
      },
      "source": [
        "result = {\n",
        "    -1: \"X\",\n",
        "    1: \"O\",\n",
        "    0: \"tie\"\n",
        "}"
      ],
      "execution_count": null,
      "outputs": []
    },
    {
      "cell_type": "code",
      "metadata": {
        "id": "f3xLawaX8lVs"
      },
      "source": [
        "ai = -1\n",
        "player = 1"
      ],
      "execution_count": null,
      "outputs": []
    },
    {
      "cell_type": "code",
      "metadata": {
        "id": "Y2gqigKJuP2i"
      },
      "source": [
        "def print_board(board):\n",
        "  print(\"  \" + \" \".join(str(x) for x in list(range(len(board)))))\n",
        "  for i in range(len(board)):\n",
        "    print(str(i), \" \".join([repr[x] for x in board[i]]))"
      ],
      "execution_count": null,
      "outputs": []
    },
    {
      "cell_type": "code",
      "metadata": {
        "id": "ZFZJZuITY1te"
      },
      "source": [
        "def is_patern(board, i, j, player, direction, n_to_win, n=1):\n",
        "  #toggleprint(\"ispatern\", i, j, n)\n",
        "  # If one player has won\n",
        "  if n == n_to_win:\n",
        "    #toggleprint(\"won\")\n",
        "    return player\n",
        "  # If the current direction is not of length 4\n",
        "  elif board[i][j] == 0:\n",
        "    return 0\n",
        "  \n",
        "  if board[i][j] == player and direction == \"r\" and len(board[0]) - j >= n_to_win - n:\n",
        "    #toggleprint(\"r\", i, j, n)\n",
        "    return is_patern(board, i, j+1, board[i][j], direction, n_to_win, n+1)\n",
        "  if board[i][j] == player and direction == \"ddr\" and len(board[0]) - j >= n_to_win - n and len(board) - i >= n_to_win - n:\n",
        "    #toggleprint(\"ddr\", i, j, n)\n",
        "    return is_patern(board, i+1, j+1, board[i][j], direction, n_to_win, n+1)\n",
        "  if board[i][j] == player and direction == \"dur\" and len(board[0]) - j >= n_to_win - n and i >= n_to_win - n - 1:\n",
        "    #toggleprint(\"dur\", i, j, n)\n",
        "    return is_patern(board, i-1, j+1, board[i][j], direction, n_to_win, n+1)\n",
        "  if board[i][j] == player and direction == \"d\" and len(board) - i >= n_to_win - n:\n",
        "    #toggleprint(\"d\", i, j, n)\n",
        "    return is_patern(board, i+1, j, board[i][j], direction, n_to_win, n+1)\n",
        "\n",
        "def winner(board, n_to_win = 4):\n",
        "  finished = True\n",
        "  for i in range(len(board)):\n",
        "    for j in range(len(board[0])):\n",
        "      finished = finished and board[i][j] != 0\n",
        "      if board[i][j] != 0:\n",
        "        #toggleprint(\"found\", i, j)\n",
        "        right = 0\n",
        "        diag_up_right = 0\n",
        "        diag_down_right = 0\n",
        "        down = 0\n",
        "        # Si l'y a la place à droite\n",
        "        if len(board[0]) - j >= n_to_win:\n",
        "          #toggleprint(\"place à droite\")\n",
        "          right = is_patern(board, i, j+1, board[i][j], \"r\", n_to_win)\n",
        "          # Si l'y a la place en haut\n",
        "          if i >= n_to_win - 1:\n",
        "            diag_up_right = is_patern(board, i-1, j+1, board[i][j], \"dur\", n_to_win)\n",
        "          # Si l'y a la place en bas\n",
        "          if len(board) - i >= n_to_win:\n",
        "            diag_down_right = is_patern(board, i+1, j+1, board[i][j], \"ddr\", n_to_win)\n",
        "        # Si l'y a la place en bas\n",
        "        if len(board) - i >= n_to_win:\n",
        "          #toggleprint(\"place en bas\")\n",
        "          down = is_patern(board, i+1, j, board[i][j], \"d\", n_to_win)\n",
        "\n",
        "        if right == 1 or right == -1:\n",
        "          return right\n",
        "        if diag_up_right == 1 or diag_up_right == -1:\n",
        "          return diag_up_right\n",
        "        if diag_down_right == 1 or diag_down_right == -1:\n",
        "          return diag_down_right\n",
        "        if down == 1 or down == -1:\n",
        "          return down\n",
        "  if finished == True:\n",
        "    return 0\n",
        "  else:\n",
        "    return None"
      ],
      "execution_count": null,
      "outputs": []
    },
    {
      "cell_type": "code",
      "metadata": {
        "id": "0FJAHeTNzfy4"
      },
      "source": [
        "def update_mtt_positions(i, j, mtt, size, n_to_win=4):\n",
        "  #print(type(mtt))\n",
        "  if mtt[\"top\"] == None or mtt[\"bottom\"] == None or mtt[\"left\"] == None or mtt[\"right\"] == None:\n",
        "    mtt[\"top\"] = max(i - 3, 0)\n",
        "    mtt[\"left\"] = max(j - 3, 0)\n",
        "    mtt[\"right\"] = min(j + 3, n_to_win + 2 + mtt[\"left\"], size - 1)\n",
        "    mtt[\"bottom\"] = min(i + 3, n_to_win + 2 + mtt[\"top\"], size - 1)\n",
        "  else:\n",
        "    if i - 1 <= mtt[\"top\"]:\n",
        "      mtt[\"top\"] = max(i - 2, 0)\n",
        "    elif i + 1 >= mtt[\"bottom\"]:\n",
        "      mtt[\"bottom\"] = min(i + 2, size - 1)\n",
        "    if j - 1 <= mtt[\"left\"]:\n",
        "      mtt[\"left\"] = max(j - 2, 0)\n",
        "    elif j + 1 >= mtt[\"right\"]:\n",
        "      mtt[\"right\"] = min(j + 2, size - 1)\n",
        "  \n",
        "  print(\"new mtt: ({}, {}), ({}, {})\".format(mtt[\"top\"], mtt[\"left\"], mtt[\"bottom\"], mtt[\"right\"]))\n",
        "  return mtt\n",
        "\n",
        "def play_tiktaktoe(nbr_tours = 0, alphabeta=True, size = 4):\n",
        "  \n",
        "  # To reduce the size of the board especially in the beginning of games, we track the furthest values on each side of the grid.\n",
        "  # Then we can only focus on the board 1 square wider\n",
        "  mtt = {\n",
        "      \"top\": None, # most to the top\n",
        "      \"bottom\": None, # most to the bottom\n",
        "      \"left\": None, # most to the left\n",
        "      \"right\": None # moste to the right\n",
        "  }\n",
        "\n",
        "  print(type(mtt))\n",
        "\n",
        "  board = [[0 for i in range(size)] for j in range(size)]\n",
        "\n",
        "  print(\"Tour \" + str(nbr_tours))\n",
        "  print_board(board)\n",
        "  while (True):\n",
        "    # Si un des joueurs a gagné\n",
        "    has_won = winner(board, n_to_win=min(size, 4))\n",
        "    #print(has_won)\n",
        "    if has_won != None:\n",
        "      print(result[has_won] + \" has won\") if has_won != 0 else print(\"It's a TIE !\")\n",
        "      return has_won\n",
        "    \n",
        "    # Si personne n'a gagné on continue à jouer (X commence)\n",
        "    print(\"Tour \" + str(nbr_tours))\n",
        "    print_board(board)\n",
        "\n",
        "    if nbr_tours % 2 == 0: # C'est au tour de l'IA\n",
        "      if nbr_tours == 0:\n",
        "        i,j = (size-1)//2, (size-1)//2\n",
        "        board[i][j] = ai\n",
        "        mtt = update_mtt_positions(i, j, mtt=mtt, size=len(board), n_to_win=min(size, 4))\n",
        "      else:\n",
        "        # c'est au tour de l'IA (X)\n",
        "        i, j = get_best_move(board=board, alphabeta=alphabeta, mtt=mtt)\n",
        "        board[i][j] = ai\n",
        "        mtt = update_mtt_positions(i, j, mtt=mtt, size=len(board), n_to_win=min(size, 4))\n",
        "      \n",
        "    else:\n",
        "      # c'est au tour du joueur (O)\n",
        "      i, j = None, None\n",
        "      first = True\n",
        "      while ((i == None and j == None) or board[i][j] != 0):\n",
        "        if first != True:\n",
        "          print(\"Please enter a valid position\")\n",
        "        i = int(input(\"entrez un nombre entre 0 et \"+ str(size -1) ))\n",
        "        j = int(input(\"entrez un nombre entre 0 et \" + str(size -1)))\n",
        "        first = False\n",
        "      board[i][j] = player\n",
        "      mtt = update_mtt_positions(i, j, mtt=mtt, size=len(board), n_to_win=min(size, 4))\n",
        "\n",
        "    # Check if point (i,j) is outside of the delimited space\n",
        "    print(\"mtt:\", mtt)\n",
        "    nbr_tours += 1\n",
        "\n"
      ],
      "execution_count": null,
      "outputs": []
    },
    {
      "cell_type": "markdown",
      "metadata": {
        "id": "U4R3Kk_q7NmP"
      },
      "source": [
        "# Minmax algorithm"
      ]
    },
    {
      "cell_type": "code",
      "metadata": {
        "id": "8L5KXIufuaJ0"
      },
      "source": [
        "# AI -> X\n",
        "# opponent -> O\n",
        "\n",
        "def best_coordinates(board, best_scores, best_depths):\n",
        "  m = max(best_scores)\n",
        "  indices = [i for i, x in enumerate(best_scores) if x == m]\n",
        "  print(indices)\n",
        "  min_depth = best_depths[indices[0]]\n",
        "  max_i = indices[0]\n",
        "  for i in indices:\n",
        "    if best_depths[i] < min_depth:\n",
        "      print(i)\n",
        "      min_depth = best_depths[i]\n",
        "      max_i = i\n",
        "  print(\"best_coordinates:\",max_i//len(board), max_i%len(board))\n",
        "  return max_i//len(board), max_i%len(board)\n",
        "\n",
        "# Returns the best possible move that the AI can make\n",
        "def get_best_move(board, max_depth=4, alphabeta = True, n_to_win = 4, mtt=None):\n",
        "  #print(\"max depth:\", max_depth)\n",
        "  #print(mtt)\n",
        "  best_scores = [-math.inf] * (len(board))**2\n",
        "  best_depths = [math.inf] * (len(board))**2\n",
        "\n",
        "  start_time = time.time()\n",
        "  print(\"bottom\", mtt[\"bottom\"], \"right\", mtt[\"right\"])\n",
        "  for i in range(mtt[\"top\"], mtt[\"bottom\"] - n_to_win):\n",
        "    for j in range(mtt[\"left\"], mtt[\"right\"] - n_to_win):\n",
        "      print(i,j)\n",
        "      for inner_i in range(0, n_to_win + 2):\n",
        "        for inner_j in range(0, n_to_win + 2):\n",
        "          curr_i, curr_j = i + inner_i, j + inner_j\n",
        "          #print(i, j, inner_i, inner_j)\n",
        "          if board[curr_i][curr_j] == 0: # Iterates over all available positions\n",
        "            temp_mtt = {\n",
        "                \"top\": i,\n",
        "                \"left\": j,\n",
        "                \"bottom\": i + n_to_win + 1,\n",
        "                \"right\": j + n_to_win + 1\n",
        "            }\n",
        "            #print(temp_mtt)\n",
        "            board[curr_i][curr_j] = ai  # Plays (i,j) position\n",
        "            score, depth = minmax(board, 0, -math.inf, math.inf, False,  max_depth=max_depth, alphabeta=alphabeta, n_to_win=n_to_win, mtt=temp_mtt) # Gets the score of the (i,j) position\n",
        "            print(curr_i, curr_j, score, depth)\n",
        "            board[curr_i][curr_j] = 0 # Unplays the (i,j) position\n",
        "            if score == 1 and depth == 0:\n",
        "              return curr_i, curr_j\n",
        "            if score == -1:\n",
        "              best_scores[len(board) * curr_i + curr_j] = -1\n",
        "              best_depths[len(board) * curr_i + curr_j] = depth\n",
        "            if score > best_scores[len(board) * curr_i + curr_j] and best_scores[len(board) * curr_i + curr_j] != -1:  # If the score is better we keep the position\n",
        "              best_scores[len(board) * curr_i + curr_j] = score\n",
        "              best_depths[len(board) * curr_i + curr_j] = depth\n",
        "            elif score == best_scores[len(board) * curr_i + curr_j] and depth < best_depths[len(board) * curr_i + curr_j] and best_scores[len(board) * curr_i + curr_j] != -1:  # Optimizes for faster winning\n",
        "              best_scores[len(board) * curr_i + curr_j] = score\n",
        "              best_depths[len(board) * curr_i + curr_j] = depth\n",
        "  print(time.time() - start_time, \"seconds to play\")\n",
        "  return best_coordinates(board, best_scores, best_depths)\n",
        "\n",
        "def minmax(board, depth, alpha, beta, is_maximizing, max_depth, alphabeta = True, n_to_win=4, mtt=None):\n",
        "  has_won = winner(board, n_to_win)\n",
        "  if has_won != None:   # Stop condition of the recursion\n",
        "    # print(\"LOST\")\n",
        "    # print_board(board)\n",
        "    # if has_won == 0:\n",
        "    #   print(\"DRAW\")\n",
        "    return -1 * has_won, depth\n",
        "\n",
        "  if is_maximizing:   # If we are maximizing\n",
        "    best_score = -math.inf\n",
        "    best_depth = math.inf\n",
        "\n",
        "    for i in range(mtt[\"top\"], mtt[\"bottom\"]+1):\n",
        "      for j in range(mtt[\"left\"], mtt[\"right\"]+1):\n",
        "        if board[i][j] == 0:  # Checks for all available spots\n",
        "          board[i][j] = ai\n",
        "          if depth <= max_depth:\n",
        "            score, temp_depth = minmax(board, depth + 1, alpha, beta, False, max_depth, alphabeta=alphabeta, mtt=mtt)\n",
        "          else:\n",
        "            score, temp_depth = 0, math.inf\n",
        "          board[i][j] = 0\n",
        "          best_score = max(best_score, score)\n",
        "          if score == best_score and temp_depth < best_depth:\n",
        "            best_depth = temp_depth\n",
        "\n",
        "          alpha = max(alpha, score)\n",
        "          if alpha >= beta and alphabeta:   # Implementation du alpha beta\n",
        "            break\n",
        "    return best_score, best_depth\n",
        "  else:\n",
        "    best_score = math.inf\n",
        "    best_depth = math.inf\n",
        "\n",
        "    for i in range(mtt[\"top\"], mtt[\"bottom\"]+1):\n",
        "      for j in range(mtt[\"left\"], mtt[\"right\"]+1):\n",
        "        if board[i][j] == 0:    # Checks for all available spots\n",
        "          board[i][j] = player\n",
        "          if depth <= max_depth:\n",
        "            score, temp_depth = minmax(board, depth + 1, alpha, beta, True, max_depth, alphabeta=alphabeta, mtt=mtt)\n",
        "          else:\n",
        "            score, temp_depth = 0, math.inf\n",
        "          board[i][j] = 0\n",
        "          best_score = min(score, best_score)\n",
        "          if best_score == score and temp_depth < best_depth:\n",
        "            best_depth = temp_depth\n",
        "          beta = min(beta, score)\n",
        "          if beta <= alpha and alphabeta:  # Implementation du alpha beta\n",
        "            break\n",
        "    return best_score, best_depth\n",
        "\n",
        "  "
      ],
      "execution_count": null,
      "outputs": []
    },
    {
      "cell_type": "markdown",
      "metadata": {
        "id": "8f8hUZH67R9Z"
      },
      "source": [
        "#Time to play"
      ]
    },
    {
      "cell_type": "code",
      "metadata": {
        "colab": {
          "base_uri": "https://localhost:8080/",
          "height": 1000
        },
        "id": "I_g1_S1C2mEn",
        "outputId": "131013ae-c6d1-4ef1-ad7f-9f75dfa6c25f"
      },
      "source": [
        "play_tiktaktoe(alphabeta=True, size=6)"
      ],
      "execution_count": null,
      "outputs": [
        {
          "output_type": "stream",
          "text": [
            "<class 'dict'>\n",
            "Tour 0\n",
            "  0 1 2 3 4 5\n",
            "0 - - - - - -\n",
            "1 - - - - - -\n",
            "2 - - - - - -\n",
            "3 - - - - - -\n",
            "4 - - - - - -\n",
            "5 - - - - - -\n",
            "Tour 0\n",
            "  0 1 2 3 4 5\n",
            "0 - - - - - -\n",
            "1 - - - - - -\n",
            "2 - - - - - -\n",
            "3 - - - - - -\n",
            "4 - - - - - -\n",
            "5 - - - - - -\n",
            "new mtt: (0, 0), (5, 5)\n",
            "mtt: {'top': 0, 'bottom': 5, 'left': 0, 'right': 5}\n",
            "Tour 1\n",
            "  0 1 2 3 4 5\n",
            "0 - - - - - -\n",
            "1 - - - - - -\n",
            "2 - - X - - -\n",
            "3 - - - - - -\n",
            "4 - - - - - -\n",
            "5 - - - - - -\n",
            "entrez un nombre entre 0 et 53\n",
            "entrez un nombre entre 0 et 52\n",
            "new mtt: (0, 0), (5, 5)\n",
            "mtt: {'top': 0, 'bottom': 5, 'left': 0, 'right': 5}\n",
            "Tour 2\n",
            "  0 1 2 3 4 5\n",
            "0 - - - - - -\n",
            "1 - - - - - -\n",
            "2 - - X - - -\n",
            "3 - - O - - -\n",
            "4 - - - - - -\n",
            "5 - - - - - -\n",
            "bottom 5 right 5\n",
            "0 0\n",
            "0 0 0 4\n",
            "0 1 0 5\n",
            "0 2 0 5\n",
            "0 3 0 5\n",
            "0 4 0 4\n",
            "0 5 0 5\n",
            "1 0 0 5\n",
            "1 1 0 4\n"
          ],
          "name": "stdout"
        },
        {
          "output_type": "error",
          "ename": "KeyboardInterrupt",
          "evalue": "ignored",
          "traceback": [
            "\u001b[0;31m---------------------------------------------------------------------------\u001b[0m",
            "\u001b[0;31mKeyboardInterrupt\u001b[0m                         Traceback (most recent call last)",
            "\u001b[0;32m<ipython-input-40-07adfcfabd7f>\u001b[0m in \u001b[0;36m<module>\u001b[0;34m()\u001b[0m\n\u001b[0;32m----> 1\u001b[0;31m \u001b[0mplay_tiktaktoe\u001b[0m\u001b[0;34m(\u001b[0m\u001b[0malphabeta\u001b[0m\u001b[0;34m=\u001b[0m\u001b[0;32mTrue\u001b[0m\u001b[0;34m,\u001b[0m \u001b[0msize\u001b[0m\u001b[0;34m=\u001b[0m\u001b[0;36m6\u001b[0m\u001b[0;34m)\u001b[0m\u001b[0;34m\u001b[0m\u001b[0;34m\u001b[0m\u001b[0m\n\u001b[0m",
            "\u001b[0;32m<ipython-input-30-e17ced9ea133>\u001b[0m in \u001b[0;36mplay_tiktaktoe\u001b[0;34m(nbr_tours, alphabeta, size)\u001b[0m\n\u001b[1;32m     55\u001b[0m       \u001b[0;32melse\u001b[0m\u001b[0;34m:\u001b[0m\u001b[0;34m\u001b[0m\u001b[0;34m\u001b[0m\u001b[0m\n\u001b[1;32m     56\u001b[0m         \u001b[0;31m# c'est au tour de l'IA (X)\u001b[0m\u001b[0;34m\u001b[0m\u001b[0;34m\u001b[0m\u001b[0;34m\u001b[0m\u001b[0m\n\u001b[0;32m---> 57\u001b[0;31m         \u001b[0mi\u001b[0m\u001b[0;34m,\u001b[0m \u001b[0mj\u001b[0m \u001b[0;34m=\u001b[0m \u001b[0mget_best_move\u001b[0m\u001b[0;34m(\u001b[0m\u001b[0mboard\u001b[0m\u001b[0;34m=\u001b[0m\u001b[0mboard\u001b[0m\u001b[0;34m,\u001b[0m \u001b[0malphabeta\u001b[0m\u001b[0;34m=\u001b[0m\u001b[0malphabeta\u001b[0m\u001b[0;34m,\u001b[0m \u001b[0mmtt\u001b[0m\u001b[0;34m=\u001b[0m\u001b[0mmtt\u001b[0m\u001b[0;34m)\u001b[0m\u001b[0;34m\u001b[0m\u001b[0;34m\u001b[0m\u001b[0m\n\u001b[0m\u001b[1;32m     58\u001b[0m         \u001b[0mboard\u001b[0m\u001b[0;34m[\u001b[0m\u001b[0mi\u001b[0m\u001b[0;34m]\u001b[0m\u001b[0;34m[\u001b[0m\u001b[0mj\u001b[0m\u001b[0;34m]\u001b[0m \u001b[0;34m=\u001b[0m \u001b[0mai\u001b[0m\u001b[0;34m\u001b[0m\u001b[0;34m\u001b[0m\u001b[0m\n\u001b[1;32m     59\u001b[0m         \u001b[0mmtt\u001b[0m \u001b[0;34m=\u001b[0m \u001b[0mupdate_mtt_positions\u001b[0m\u001b[0;34m(\u001b[0m\u001b[0mi\u001b[0m\u001b[0;34m,\u001b[0m \u001b[0mj\u001b[0m\u001b[0;34m,\u001b[0m \u001b[0mmtt\u001b[0m\u001b[0;34m=\u001b[0m\u001b[0mmtt\u001b[0m\u001b[0;34m,\u001b[0m \u001b[0msize\u001b[0m\u001b[0;34m=\u001b[0m\u001b[0mlen\u001b[0m\u001b[0;34m(\u001b[0m\u001b[0mboard\u001b[0m\u001b[0;34m)\u001b[0m\u001b[0;34m,\u001b[0m \u001b[0mn_to_win\u001b[0m\u001b[0;34m=\u001b[0m\u001b[0mmin\u001b[0m\u001b[0;34m(\u001b[0m\u001b[0msize\u001b[0m\u001b[0;34m,\u001b[0m \u001b[0;36m4\u001b[0m\u001b[0;34m)\u001b[0m\u001b[0;34m)\u001b[0m\u001b[0;34m\u001b[0m\u001b[0;34m\u001b[0m\u001b[0m\n",
            "\u001b[0;32m<ipython-input-39-d2920e674777>\u001b[0m in \u001b[0;36mget_best_move\u001b[0;34m(board, max_depth, alphabeta, n_to_win, mtt)\u001b[0m\n\u001b[1;32m     41\u001b[0m             \u001b[0;31m#print(temp_mtt)\u001b[0m\u001b[0;34m\u001b[0m\u001b[0;34m\u001b[0m\u001b[0;34m\u001b[0m\u001b[0m\n\u001b[1;32m     42\u001b[0m             \u001b[0mboard\u001b[0m\u001b[0;34m[\u001b[0m\u001b[0mcurr_i\u001b[0m\u001b[0;34m]\u001b[0m\u001b[0;34m[\u001b[0m\u001b[0mcurr_j\u001b[0m\u001b[0;34m]\u001b[0m \u001b[0;34m=\u001b[0m \u001b[0mai\u001b[0m  \u001b[0;31m# Plays (i,j) position\u001b[0m\u001b[0;34m\u001b[0m\u001b[0;34m\u001b[0m\u001b[0m\n\u001b[0;32m---> 43\u001b[0;31m             \u001b[0mscore\u001b[0m\u001b[0;34m,\u001b[0m \u001b[0mdepth\u001b[0m \u001b[0;34m=\u001b[0m \u001b[0mminmax\u001b[0m\u001b[0;34m(\u001b[0m\u001b[0mboard\u001b[0m\u001b[0;34m,\u001b[0m \u001b[0;36m0\u001b[0m\u001b[0;34m,\u001b[0m \u001b[0;34m-\u001b[0m\u001b[0mmath\u001b[0m\u001b[0;34m.\u001b[0m\u001b[0minf\u001b[0m\u001b[0;34m,\u001b[0m \u001b[0mmath\u001b[0m\u001b[0;34m.\u001b[0m\u001b[0minf\u001b[0m\u001b[0;34m,\u001b[0m \u001b[0;32mFalse\u001b[0m\u001b[0;34m,\u001b[0m  \u001b[0mmax_depth\u001b[0m\u001b[0;34m=\u001b[0m\u001b[0mmax_depth\u001b[0m\u001b[0;34m,\u001b[0m \u001b[0malphabeta\u001b[0m\u001b[0;34m=\u001b[0m\u001b[0malphabeta\u001b[0m\u001b[0;34m,\u001b[0m \u001b[0mn_to_win\u001b[0m\u001b[0;34m=\u001b[0m\u001b[0mn_to_win\u001b[0m\u001b[0;34m,\u001b[0m \u001b[0mmtt\u001b[0m\u001b[0;34m=\u001b[0m\u001b[0mtemp_mtt\u001b[0m\u001b[0;34m)\u001b[0m \u001b[0;31m# Gets the score of the (i,j) position\u001b[0m\u001b[0;34m\u001b[0m\u001b[0;34m\u001b[0m\u001b[0m\n\u001b[0m\u001b[1;32m     44\u001b[0m             \u001b[0mprint\u001b[0m\u001b[0;34m(\u001b[0m\u001b[0mcurr_i\u001b[0m\u001b[0;34m,\u001b[0m \u001b[0mcurr_j\u001b[0m\u001b[0;34m,\u001b[0m \u001b[0mscore\u001b[0m\u001b[0;34m,\u001b[0m \u001b[0mdepth\u001b[0m\u001b[0;34m)\u001b[0m\u001b[0;34m\u001b[0m\u001b[0;34m\u001b[0m\u001b[0m\n\u001b[1;32m     45\u001b[0m             \u001b[0mboard\u001b[0m\u001b[0;34m[\u001b[0m\u001b[0mcurr_i\u001b[0m\u001b[0;34m]\u001b[0m\u001b[0;34m[\u001b[0m\u001b[0mcurr_j\u001b[0m\u001b[0;34m]\u001b[0m \u001b[0;34m=\u001b[0m \u001b[0;36m0\u001b[0m \u001b[0;31m# Unplays the (i,j) position\u001b[0m\u001b[0;34m\u001b[0m\u001b[0;34m\u001b[0m\u001b[0m\n",
            "\u001b[0;32m<ipython-input-39-d2920e674777>\u001b[0m in \u001b[0;36mminmax\u001b[0;34m(board, depth, alpha, beta, is_maximizing, max_depth, alphabeta, n_to_win, mtt)\u001b[0m\n\u001b[1;32m     97\u001b[0m           \u001b[0mboard\u001b[0m\u001b[0;34m[\u001b[0m\u001b[0mi\u001b[0m\u001b[0;34m]\u001b[0m\u001b[0;34m[\u001b[0m\u001b[0mj\u001b[0m\u001b[0;34m]\u001b[0m \u001b[0;34m=\u001b[0m \u001b[0mplayer\u001b[0m\u001b[0;34m\u001b[0m\u001b[0;34m\u001b[0m\u001b[0m\n\u001b[1;32m     98\u001b[0m           \u001b[0;32mif\u001b[0m \u001b[0mdepth\u001b[0m \u001b[0;34m<=\u001b[0m \u001b[0mmax_depth\u001b[0m\u001b[0;34m:\u001b[0m\u001b[0;34m\u001b[0m\u001b[0;34m\u001b[0m\u001b[0m\n\u001b[0;32m---> 99\u001b[0;31m             \u001b[0mscore\u001b[0m\u001b[0;34m,\u001b[0m \u001b[0mtemp_depth\u001b[0m \u001b[0;34m=\u001b[0m \u001b[0mminmax\u001b[0m\u001b[0;34m(\u001b[0m\u001b[0mboard\u001b[0m\u001b[0;34m,\u001b[0m \u001b[0mdepth\u001b[0m \u001b[0;34m+\u001b[0m \u001b[0;36m1\u001b[0m\u001b[0;34m,\u001b[0m \u001b[0malpha\u001b[0m\u001b[0;34m,\u001b[0m \u001b[0mbeta\u001b[0m\u001b[0;34m,\u001b[0m \u001b[0;32mTrue\u001b[0m\u001b[0;34m,\u001b[0m \u001b[0mmax_depth\u001b[0m\u001b[0;34m,\u001b[0m \u001b[0malphabeta\u001b[0m\u001b[0;34m=\u001b[0m\u001b[0malphabeta\u001b[0m\u001b[0;34m,\u001b[0m \u001b[0mmtt\u001b[0m\u001b[0;34m=\u001b[0m\u001b[0mmtt\u001b[0m\u001b[0;34m)\u001b[0m\u001b[0;34m\u001b[0m\u001b[0;34m\u001b[0m\u001b[0m\n\u001b[0m\u001b[1;32m    100\u001b[0m           \u001b[0;32melse\u001b[0m\u001b[0;34m:\u001b[0m\u001b[0;34m\u001b[0m\u001b[0;34m\u001b[0m\u001b[0m\n\u001b[1;32m    101\u001b[0m             \u001b[0mscore\u001b[0m\u001b[0;34m,\u001b[0m \u001b[0mtemp_depth\u001b[0m \u001b[0;34m=\u001b[0m \u001b[0;36m0\u001b[0m\u001b[0;34m,\u001b[0m \u001b[0mmath\u001b[0m\u001b[0;34m.\u001b[0m\u001b[0minf\u001b[0m\u001b[0;34m\u001b[0m\u001b[0;34m\u001b[0m\u001b[0m\n",
            "\u001b[0;32m<ipython-input-39-d2920e674777>\u001b[0m in \u001b[0;36mminmax\u001b[0;34m(board, depth, alpha, beta, is_maximizing, max_depth, alphabeta, n_to_win, mtt)\u001b[0m\n\u001b[1;32m     76\u001b[0m           \u001b[0mboard\u001b[0m\u001b[0;34m[\u001b[0m\u001b[0mi\u001b[0m\u001b[0;34m]\u001b[0m\u001b[0;34m[\u001b[0m\u001b[0mj\u001b[0m\u001b[0;34m]\u001b[0m \u001b[0;34m=\u001b[0m \u001b[0mai\u001b[0m\u001b[0;34m\u001b[0m\u001b[0;34m\u001b[0m\u001b[0m\n\u001b[1;32m     77\u001b[0m           \u001b[0;32mif\u001b[0m \u001b[0mdepth\u001b[0m \u001b[0;34m<=\u001b[0m \u001b[0mmax_depth\u001b[0m\u001b[0;34m:\u001b[0m\u001b[0;34m\u001b[0m\u001b[0;34m\u001b[0m\u001b[0m\n\u001b[0;32m---> 78\u001b[0;31m             \u001b[0mscore\u001b[0m\u001b[0;34m,\u001b[0m \u001b[0mtemp_depth\u001b[0m \u001b[0;34m=\u001b[0m \u001b[0mminmax\u001b[0m\u001b[0;34m(\u001b[0m\u001b[0mboard\u001b[0m\u001b[0;34m,\u001b[0m \u001b[0mdepth\u001b[0m \u001b[0;34m+\u001b[0m \u001b[0;36m1\u001b[0m\u001b[0;34m,\u001b[0m \u001b[0malpha\u001b[0m\u001b[0;34m,\u001b[0m \u001b[0mbeta\u001b[0m\u001b[0;34m,\u001b[0m \u001b[0;32mFalse\u001b[0m\u001b[0;34m,\u001b[0m \u001b[0mmax_depth\u001b[0m\u001b[0;34m,\u001b[0m \u001b[0malphabeta\u001b[0m\u001b[0;34m=\u001b[0m\u001b[0malphabeta\u001b[0m\u001b[0;34m,\u001b[0m \u001b[0mmtt\u001b[0m\u001b[0;34m=\u001b[0m\u001b[0mmtt\u001b[0m\u001b[0;34m)\u001b[0m\u001b[0;34m\u001b[0m\u001b[0;34m\u001b[0m\u001b[0m\n\u001b[0m\u001b[1;32m     79\u001b[0m           \u001b[0;32melse\u001b[0m\u001b[0;34m:\u001b[0m\u001b[0;34m\u001b[0m\u001b[0;34m\u001b[0m\u001b[0m\n\u001b[1;32m     80\u001b[0m             \u001b[0mscore\u001b[0m\u001b[0;34m,\u001b[0m \u001b[0mtemp_depth\u001b[0m \u001b[0;34m=\u001b[0m \u001b[0;36m0\u001b[0m\u001b[0;34m,\u001b[0m \u001b[0mmath\u001b[0m\u001b[0;34m.\u001b[0m\u001b[0minf\u001b[0m\u001b[0;34m\u001b[0m\u001b[0;34m\u001b[0m\u001b[0m\n",
            "\u001b[0;32m<ipython-input-39-d2920e674777>\u001b[0m in \u001b[0;36mminmax\u001b[0;34m(board, depth, alpha, beta, is_maximizing, max_depth, alphabeta, n_to_win, mtt)\u001b[0m\n\u001b[1;32m     97\u001b[0m           \u001b[0mboard\u001b[0m\u001b[0;34m[\u001b[0m\u001b[0mi\u001b[0m\u001b[0;34m]\u001b[0m\u001b[0;34m[\u001b[0m\u001b[0mj\u001b[0m\u001b[0;34m]\u001b[0m \u001b[0;34m=\u001b[0m \u001b[0mplayer\u001b[0m\u001b[0;34m\u001b[0m\u001b[0;34m\u001b[0m\u001b[0m\n\u001b[1;32m     98\u001b[0m           \u001b[0;32mif\u001b[0m \u001b[0mdepth\u001b[0m \u001b[0;34m<=\u001b[0m \u001b[0mmax_depth\u001b[0m\u001b[0;34m:\u001b[0m\u001b[0;34m\u001b[0m\u001b[0;34m\u001b[0m\u001b[0m\n\u001b[0;32m---> 99\u001b[0;31m             \u001b[0mscore\u001b[0m\u001b[0;34m,\u001b[0m \u001b[0mtemp_depth\u001b[0m \u001b[0;34m=\u001b[0m \u001b[0mminmax\u001b[0m\u001b[0;34m(\u001b[0m\u001b[0mboard\u001b[0m\u001b[0;34m,\u001b[0m \u001b[0mdepth\u001b[0m \u001b[0;34m+\u001b[0m \u001b[0;36m1\u001b[0m\u001b[0;34m,\u001b[0m \u001b[0malpha\u001b[0m\u001b[0;34m,\u001b[0m \u001b[0mbeta\u001b[0m\u001b[0;34m,\u001b[0m \u001b[0;32mTrue\u001b[0m\u001b[0;34m,\u001b[0m \u001b[0mmax_depth\u001b[0m\u001b[0;34m,\u001b[0m \u001b[0malphabeta\u001b[0m\u001b[0;34m=\u001b[0m\u001b[0malphabeta\u001b[0m\u001b[0;34m,\u001b[0m \u001b[0mmtt\u001b[0m\u001b[0;34m=\u001b[0m\u001b[0mmtt\u001b[0m\u001b[0;34m)\u001b[0m\u001b[0;34m\u001b[0m\u001b[0;34m\u001b[0m\u001b[0m\n\u001b[0m\u001b[1;32m    100\u001b[0m           \u001b[0;32melse\u001b[0m\u001b[0;34m:\u001b[0m\u001b[0;34m\u001b[0m\u001b[0;34m\u001b[0m\u001b[0m\n\u001b[1;32m    101\u001b[0m             \u001b[0mscore\u001b[0m\u001b[0;34m,\u001b[0m \u001b[0mtemp_depth\u001b[0m \u001b[0;34m=\u001b[0m \u001b[0;36m0\u001b[0m\u001b[0;34m,\u001b[0m \u001b[0mmath\u001b[0m\u001b[0;34m.\u001b[0m\u001b[0minf\u001b[0m\u001b[0;34m\u001b[0m\u001b[0;34m\u001b[0m\u001b[0m\n",
            "\u001b[0;32m<ipython-input-39-d2920e674777>\u001b[0m in \u001b[0;36mminmax\u001b[0;34m(board, depth, alpha, beta, is_maximizing, max_depth, alphabeta, n_to_win, mtt)\u001b[0m\n\u001b[1;32m     76\u001b[0m           \u001b[0mboard\u001b[0m\u001b[0;34m[\u001b[0m\u001b[0mi\u001b[0m\u001b[0;34m]\u001b[0m\u001b[0;34m[\u001b[0m\u001b[0mj\u001b[0m\u001b[0;34m]\u001b[0m \u001b[0;34m=\u001b[0m \u001b[0mai\u001b[0m\u001b[0;34m\u001b[0m\u001b[0;34m\u001b[0m\u001b[0m\n\u001b[1;32m     77\u001b[0m           \u001b[0;32mif\u001b[0m \u001b[0mdepth\u001b[0m \u001b[0;34m<=\u001b[0m \u001b[0mmax_depth\u001b[0m\u001b[0;34m:\u001b[0m\u001b[0;34m\u001b[0m\u001b[0;34m\u001b[0m\u001b[0m\n\u001b[0;32m---> 78\u001b[0;31m             \u001b[0mscore\u001b[0m\u001b[0;34m,\u001b[0m \u001b[0mtemp_depth\u001b[0m \u001b[0;34m=\u001b[0m \u001b[0mminmax\u001b[0m\u001b[0;34m(\u001b[0m\u001b[0mboard\u001b[0m\u001b[0;34m,\u001b[0m \u001b[0mdepth\u001b[0m \u001b[0;34m+\u001b[0m \u001b[0;36m1\u001b[0m\u001b[0;34m,\u001b[0m \u001b[0malpha\u001b[0m\u001b[0;34m,\u001b[0m \u001b[0mbeta\u001b[0m\u001b[0;34m,\u001b[0m \u001b[0;32mFalse\u001b[0m\u001b[0;34m,\u001b[0m \u001b[0mmax_depth\u001b[0m\u001b[0;34m,\u001b[0m \u001b[0malphabeta\u001b[0m\u001b[0;34m=\u001b[0m\u001b[0malphabeta\u001b[0m\u001b[0;34m,\u001b[0m \u001b[0mmtt\u001b[0m\u001b[0;34m=\u001b[0m\u001b[0mmtt\u001b[0m\u001b[0;34m)\u001b[0m\u001b[0;34m\u001b[0m\u001b[0;34m\u001b[0m\u001b[0m\n\u001b[0m\u001b[1;32m     79\u001b[0m           \u001b[0;32melse\u001b[0m\u001b[0;34m:\u001b[0m\u001b[0;34m\u001b[0m\u001b[0;34m\u001b[0m\u001b[0m\n\u001b[1;32m     80\u001b[0m             \u001b[0mscore\u001b[0m\u001b[0;34m,\u001b[0m \u001b[0mtemp_depth\u001b[0m \u001b[0;34m=\u001b[0m \u001b[0;36m0\u001b[0m\u001b[0;34m,\u001b[0m \u001b[0mmath\u001b[0m\u001b[0;34m.\u001b[0m\u001b[0minf\u001b[0m\u001b[0;34m\u001b[0m\u001b[0;34m\u001b[0m\u001b[0m\n",
            "\u001b[0;32m<ipython-input-39-d2920e674777>\u001b[0m in \u001b[0;36mminmax\u001b[0;34m(board, depth, alpha, beta, is_maximizing, max_depth, alphabeta, n_to_win, mtt)\u001b[0m\n\u001b[1;32m     97\u001b[0m           \u001b[0mboard\u001b[0m\u001b[0;34m[\u001b[0m\u001b[0mi\u001b[0m\u001b[0;34m]\u001b[0m\u001b[0;34m[\u001b[0m\u001b[0mj\u001b[0m\u001b[0;34m]\u001b[0m \u001b[0;34m=\u001b[0m \u001b[0mplayer\u001b[0m\u001b[0;34m\u001b[0m\u001b[0;34m\u001b[0m\u001b[0m\n\u001b[1;32m     98\u001b[0m           \u001b[0;32mif\u001b[0m \u001b[0mdepth\u001b[0m \u001b[0;34m<=\u001b[0m \u001b[0mmax_depth\u001b[0m\u001b[0;34m:\u001b[0m\u001b[0;34m\u001b[0m\u001b[0;34m\u001b[0m\u001b[0m\n\u001b[0;32m---> 99\u001b[0;31m             \u001b[0mscore\u001b[0m\u001b[0;34m,\u001b[0m \u001b[0mtemp_depth\u001b[0m \u001b[0;34m=\u001b[0m \u001b[0mminmax\u001b[0m\u001b[0;34m(\u001b[0m\u001b[0mboard\u001b[0m\u001b[0;34m,\u001b[0m \u001b[0mdepth\u001b[0m \u001b[0;34m+\u001b[0m \u001b[0;36m1\u001b[0m\u001b[0;34m,\u001b[0m \u001b[0malpha\u001b[0m\u001b[0;34m,\u001b[0m \u001b[0mbeta\u001b[0m\u001b[0;34m,\u001b[0m \u001b[0;32mTrue\u001b[0m\u001b[0;34m,\u001b[0m \u001b[0mmax_depth\u001b[0m\u001b[0;34m,\u001b[0m \u001b[0malphabeta\u001b[0m\u001b[0;34m=\u001b[0m\u001b[0malphabeta\u001b[0m\u001b[0;34m,\u001b[0m \u001b[0mmtt\u001b[0m\u001b[0;34m=\u001b[0m\u001b[0mmtt\u001b[0m\u001b[0;34m)\u001b[0m\u001b[0;34m\u001b[0m\u001b[0;34m\u001b[0m\u001b[0m\n\u001b[0m\u001b[1;32m    100\u001b[0m           \u001b[0;32melse\u001b[0m\u001b[0;34m:\u001b[0m\u001b[0;34m\u001b[0m\u001b[0;34m\u001b[0m\u001b[0m\n\u001b[1;32m    101\u001b[0m             \u001b[0mscore\u001b[0m\u001b[0;34m,\u001b[0m \u001b[0mtemp_depth\u001b[0m \u001b[0;34m=\u001b[0m \u001b[0;36m0\u001b[0m\u001b[0;34m,\u001b[0m \u001b[0mmath\u001b[0m\u001b[0;34m.\u001b[0m\u001b[0minf\u001b[0m\u001b[0;34m\u001b[0m\u001b[0;34m\u001b[0m\u001b[0m\n",
            "\u001b[0;32m<ipython-input-39-d2920e674777>\u001b[0m in \u001b[0;36mminmax\u001b[0;34m(board, depth, alpha, beta, is_maximizing, max_depth, alphabeta, n_to_win, mtt)\u001b[0m\n\u001b[1;32m     59\u001b[0m \u001b[0;34m\u001b[0m\u001b[0m\n\u001b[1;32m     60\u001b[0m \u001b[0;32mdef\u001b[0m \u001b[0mminmax\u001b[0m\u001b[0;34m(\u001b[0m\u001b[0mboard\u001b[0m\u001b[0;34m,\u001b[0m \u001b[0mdepth\u001b[0m\u001b[0;34m,\u001b[0m \u001b[0malpha\u001b[0m\u001b[0;34m,\u001b[0m \u001b[0mbeta\u001b[0m\u001b[0;34m,\u001b[0m \u001b[0mis_maximizing\u001b[0m\u001b[0;34m,\u001b[0m \u001b[0mmax_depth\u001b[0m\u001b[0;34m,\u001b[0m \u001b[0malphabeta\u001b[0m \u001b[0;34m=\u001b[0m \u001b[0;32mTrue\u001b[0m\u001b[0;34m,\u001b[0m \u001b[0mn_to_win\u001b[0m\u001b[0;34m=\u001b[0m\u001b[0;36m4\u001b[0m\u001b[0;34m,\u001b[0m \u001b[0mmtt\u001b[0m\u001b[0;34m=\u001b[0m\u001b[0;32mNone\u001b[0m\u001b[0;34m)\u001b[0m\u001b[0;34m:\u001b[0m\u001b[0;34m\u001b[0m\u001b[0;34m\u001b[0m\u001b[0m\n\u001b[0;32m---> 61\u001b[0;31m   \u001b[0mhas_won\u001b[0m \u001b[0;34m=\u001b[0m \u001b[0mwinner\u001b[0m\u001b[0;34m(\u001b[0m\u001b[0mboard\u001b[0m\u001b[0;34m,\u001b[0m \u001b[0mn_to_win\u001b[0m\u001b[0;34m)\u001b[0m\u001b[0;34m\u001b[0m\u001b[0;34m\u001b[0m\u001b[0m\n\u001b[0m\u001b[1;32m     62\u001b[0m   \u001b[0;32mif\u001b[0m \u001b[0mhas_won\u001b[0m \u001b[0;34m!=\u001b[0m \u001b[0;32mNone\u001b[0m\u001b[0;34m:\u001b[0m   \u001b[0;31m# Stop condition of the recursion\u001b[0m\u001b[0;34m\u001b[0m\u001b[0;34m\u001b[0m\u001b[0m\n\u001b[1;32m     63\u001b[0m     \u001b[0;31m# print(\"LOST\")\u001b[0m\u001b[0;34m\u001b[0m\u001b[0;34m\u001b[0m\u001b[0;34m\u001b[0m\u001b[0m\n",
            "\u001b[0;32m<ipython-input-6-32bef07ef6bd>\u001b[0m in \u001b[0;36mwinner\u001b[0;34m(board, n_to_win)\u001b[0m\n\u001b[1;32m     42\u001b[0m           \u001b[0;31m# Si l'y a la place en bas\u001b[0m\u001b[0;34m\u001b[0m\u001b[0;34m\u001b[0m\u001b[0;34m\u001b[0m\u001b[0m\n\u001b[1;32m     43\u001b[0m           \u001b[0;32mif\u001b[0m \u001b[0mlen\u001b[0m\u001b[0;34m(\u001b[0m\u001b[0mboard\u001b[0m\u001b[0;34m)\u001b[0m \u001b[0;34m-\u001b[0m \u001b[0mi\u001b[0m \u001b[0;34m>=\u001b[0m \u001b[0mn_to_win\u001b[0m\u001b[0;34m:\u001b[0m\u001b[0;34m\u001b[0m\u001b[0;34m\u001b[0m\u001b[0m\n\u001b[0;32m---> 44\u001b[0;31m             \u001b[0mdiag_down_right\u001b[0m \u001b[0;34m=\u001b[0m \u001b[0mis_patern\u001b[0m\u001b[0;34m(\u001b[0m\u001b[0mboard\u001b[0m\u001b[0;34m,\u001b[0m \u001b[0mi\u001b[0m\u001b[0;34m+\u001b[0m\u001b[0;36m1\u001b[0m\u001b[0;34m,\u001b[0m \u001b[0mj\u001b[0m\u001b[0;34m+\u001b[0m\u001b[0;36m1\u001b[0m\u001b[0;34m,\u001b[0m \u001b[0mboard\u001b[0m\u001b[0;34m[\u001b[0m\u001b[0mi\u001b[0m\u001b[0;34m]\u001b[0m\u001b[0;34m[\u001b[0m\u001b[0mj\u001b[0m\u001b[0;34m]\u001b[0m\u001b[0;34m,\u001b[0m \u001b[0;34m\"ddr\"\u001b[0m\u001b[0;34m,\u001b[0m \u001b[0mn_to_win\u001b[0m\u001b[0;34m)\u001b[0m\u001b[0;34m\u001b[0m\u001b[0;34m\u001b[0m\u001b[0m\n\u001b[0m\u001b[1;32m     45\u001b[0m         \u001b[0;31m# Si l'y a la place en bas\u001b[0m\u001b[0;34m\u001b[0m\u001b[0;34m\u001b[0m\u001b[0;34m\u001b[0m\u001b[0m\n\u001b[1;32m     46\u001b[0m         \u001b[0;32mif\u001b[0m \u001b[0mlen\u001b[0m\u001b[0;34m(\u001b[0m\u001b[0mboard\u001b[0m\u001b[0;34m)\u001b[0m \u001b[0;34m-\u001b[0m \u001b[0mi\u001b[0m \u001b[0;34m>=\u001b[0m \u001b[0mn_to_win\u001b[0m\u001b[0;34m:\u001b[0m\u001b[0;34m\u001b[0m\u001b[0;34m\u001b[0m\u001b[0m\n",
            "\u001b[0;32m<ipython-input-6-32bef07ef6bd>\u001b[0m in \u001b[0;36mis_patern\u001b[0;34m(board, i, j, player, direction, n_to_win, n)\u001b[0m\n\u001b[1;32m     14\u001b[0m   \u001b[0;32mif\u001b[0m \u001b[0mboard\u001b[0m\u001b[0;34m[\u001b[0m\u001b[0mi\u001b[0m\u001b[0;34m]\u001b[0m\u001b[0;34m[\u001b[0m\u001b[0mj\u001b[0m\u001b[0;34m]\u001b[0m \u001b[0;34m==\u001b[0m \u001b[0mplayer\u001b[0m \u001b[0;32mand\u001b[0m \u001b[0mdirection\u001b[0m \u001b[0;34m==\u001b[0m \u001b[0;34m\"ddr\"\u001b[0m \u001b[0;32mand\u001b[0m \u001b[0mlen\u001b[0m\u001b[0;34m(\u001b[0m\u001b[0mboard\u001b[0m\u001b[0;34m[\u001b[0m\u001b[0;36m0\u001b[0m\u001b[0;34m]\u001b[0m\u001b[0;34m)\u001b[0m \u001b[0;34m-\u001b[0m \u001b[0mj\u001b[0m \u001b[0;34m>=\u001b[0m \u001b[0mn_to_win\u001b[0m \u001b[0;34m-\u001b[0m \u001b[0mn\u001b[0m \u001b[0;32mand\u001b[0m \u001b[0mlen\u001b[0m\u001b[0;34m(\u001b[0m\u001b[0mboard\u001b[0m\u001b[0;34m)\u001b[0m \u001b[0;34m-\u001b[0m \u001b[0mi\u001b[0m \u001b[0;34m>=\u001b[0m \u001b[0mn_to_win\u001b[0m \u001b[0;34m-\u001b[0m \u001b[0mn\u001b[0m\u001b[0;34m:\u001b[0m\u001b[0;34m\u001b[0m\u001b[0;34m\u001b[0m\u001b[0m\n\u001b[1;32m     15\u001b[0m     \u001b[0;31m#toggleprint(\"ddr\", i, j, n)\u001b[0m\u001b[0;34m\u001b[0m\u001b[0;34m\u001b[0m\u001b[0;34m\u001b[0m\u001b[0m\n\u001b[0;32m---> 16\u001b[0;31m     \u001b[0;32mreturn\u001b[0m \u001b[0mis_patern\u001b[0m\u001b[0;34m(\u001b[0m\u001b[0mboard\u001b[0m\u001b[0;34m,\u001b[0m \u001b[0mi\u001b[0m\u001b[0;34m+\u001b[0m\u001b[0;36m1\u001b[0m\u001b[0;34m,\u001b[0m \u001b[0mj\u001b[0m\u001b[0;34m+\u001b[0m\u001b[0;36m1\u001b[0m\u001b[0;34m,\u001b[0m \u001b[0mboard\u001b[0m\u001b[0;34m[\u001b[0m\u001b[0mi\u001b[0m\u001b[0;34m]\u001b[0m\u001b[0;34m[\u001b[0m\u001b[0mj\u001b[0m\u001b[0;34m]\u001b[0m\u001b[0;34m,\u001b[0m \u001b[0mdirection\u001b[0m\u001b[0;34m,\u001b[0m \u001b[0mn_to_win\u001b[0m\u001b[0;34m,\u001b[0m \u001b[0mn\u001b[0m\u001b[0;34m+\u001b[0m\u001b[0;36m1\u001b[0m\u001b[0;34m)\u001b[0m\u001b[0;34m\u001b[0m\u001b[0;34m\u001b[0m\u001b[0m\n\u001b[0m\u001b[1;32m     17\u001b[0m   \u001b[0;32mif\u001b[0m \u001b[0mboard\u001b[0m\u001b[0;34m[\u001b[0m\u001b[0mi\u001b[0m\u001b[0;34m]\u001b[0m\u001b[0;34m[\u001b[0m\u001b[0mj\u001b[0m\u001b[0;34m]\u001b[0m \u001b[0;34m==\u001b[0m \u001b[0mplayer\u001b[0m \u001b[0;32mand\u001b[0m \u001b[0mdirection\u001b[0m \u001b[0;34m==\u001b[0m \u001b[0;34m\"dur\"\u001b[0m \u001b[0;32mand\u001b[0m \u001b[0mlen\u001b[0m\u001b[0;34m(\u001b[0m\u001b[0mboard\u001b[0m\u001b[0;34m[\u001b[0m\u001b[0;36m0\u001b[0m\u001b[0;34m]\u001b[0m\u001b[0;34m)\u001b[0m \u001b[0;34m-\u001b[0m \u001b[0mj\u001b[0m \u001b[0;34m>=\u001b[0m \u001b[0mn_to_win\u001b[0m \u001b[0;34m-\u001b[0m \u001b[0mn\u001b[0m \u001b[0;32mand\u001b[0m \u001b[0mi\u001b[0m \u001b[0;34m>=\u001b[0m \u001b[0mn_to_win\u001b[0m \u001b[0;34m-\u001b[0m \u001b[0mn\u001b[0m \u001b[0;34m-\u001b[0m \u001b[0;36m1\u001b[0m\u001b[0;34m:\u001b[0m\u001b[0;34m\u001b[0m\u001b[0;34m\u001b[0m\u001b[0m\n\u001b[1;32m     18\u001b[0m     \u001b[0;31m#toggleprint(\"dur\", i, j, n)\u001b[0m\u001b[0;34m\u001b[0m\u001b[0;34m\u001b[0m\u001b[0;34m\u001b[0m\u001b[0m\n",
            "\u001b[0;32m<ipython-input-6-32bef07ef6bd>\u001b[0m in \u001b[0;36mis_patern\u001b[0;34m(board, i, j, player, direction, n_to_win, n)\u001b[0m\n\u001b[1;32m      2\u001b[0m   \u001b[0;31m#toggleprint(\"ispatern\", i, j, n)\u001b[0m\u001b[0;34m\u001b[0m\u001b[0;34m\u001b[0m\u001b[0;34m\u001b[0m\u001b[0m\n\u001b[1;32m      3\u001b[0m   \u001b[0;31m# If one player has won\u001b[0m\u001b[0;34m\u001b[0m\u001b[0;34m\u001b[0m\u001b[0;34m\u001b[0m\u001b[0m\n\u001b[0;32m----> 4\u001b[0;31m   \u001b[0;32mif\u001b[0m \u001b[0mn\u001b[0m \u001b[0;34m==\u001b[0m \u001b[0mn_to_win\u001b[0m\u001b[0;34m:\u001b[0m\u001b[0;34m\u001b[0m\u001b[0;34m\u001b[0m\u001b[0m\n\u001b[0m\u001b[1;32m      5\u001b[0m     \u001b[0;31m#toggleprint(\"won\")\u001b[0m\u001b[0;34m\u001b[0m\u001b[0;34m\u001b[0m\u001b[0;34m\u001b[0m\u001b[0m\n\u001b[1;32m      6\u001b[0m     \u001b[0;32mreturn\u001b[0m \u001b[0mplayer\u001b[0m\u001b[0;34m\u001b[0m\u001b[0;34m\u001b[0m\u001b[0m\n",
            "\u001b[0;31mKeyboardInterrupt\u001b[0m: "
          ]
        }
      ]
    },
    {
      "cell_type": "code",
      "metadata": {
        "id": "5Mv5LHhyO8Ed"
      },
      "source": [
        "i,j, size = 4, 1, 6\n",
        "mtt[\"top\"] = max(i - 3, 0)\n",
        "mtt[\"left\"] = max(j - 3, 0)\n",
        "mtt[\"right\"] = min(j + 3 - mtt[\"left\"], size - 1)\n",
        "mtt[\"bottom\"] = min(i + 3 - mtt[\"top\"], size - 1)\n",
        "print(mtt[\"top\"], mtt[\"bottom\"], mtt[\"left\"], mtt[\"right\"])"
      ],
      "execution_count": null,
      "outputs": []
    },
    {
      "cell_type": "code",
      "metadata": {
        "id": "PoR4be-ljqCI"
      },
      "source": [
        "q4"
      ],
      "execution_count": null,
      "outputs": []
    },
    {
      "cell_type": "code",
      "metadata": {
        "id": "eINXyf2Jkl7e"
      },
      "source": [
        "3"
      ],
      "execution_count": null,
      "outputs": []
    },
    {
      "cell_type": "code",
      "metadata": {
        "id": "A2efwE5xpcfe"
      },
      "source": [
        "1%6"
      ],
      "execution_count": null,
      "outputs": []
    },
    {
      "cell_type": "code",
      "metadata": {
        "id": "cII0pN-IPHI3"
      },
      "source": [
        ""
      ],
      "execution_count": null,
      "outputs": []
    }
  ]
}